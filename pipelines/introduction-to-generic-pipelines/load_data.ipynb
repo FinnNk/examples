{
 "cells": [
  {
   "cell_type": "markdown",
   "id": "10e2d643",
   "metadata": {
    "papermill": {
     "duration": 0.001716,
     "end_time": "2023-10-24T17:57:01.680260",
     "exception": false,
     "start_time": "2023-10-24T17:57:01.678544",
     "status": "completed"
    },
    "tags": []
   },
   "source": [
    "## Download a data set\n",
    "\n",
    "This notebook downloads a data set file from a public location. If the data set file is a compressed archive it will be decompressed. Upon completion the raw data set files  are located in the `data\\` directory.\n",
    "\n",
    "This notebook requires the following environment variables:\n",
    " -  `DATASET_URL` Public data set URL, e.g. `https://dax-cdn.cdn.appdomain.cloud/dax-fashion-mnist/1.0.2/fashion-mnist.tar.gz`"
   ]
  },
  {
   "cell_type": "code",
   "execution_count": 1,
   "id": "8a2f3aab",
   "metadata": {
    "execution": {
     "iopub.execute_input": "2023-10-24T17:57:01.696667Z",
     "iopub.status.busy": "2023-10-24T17:57:01.696342Z",
     "iopub.status.idle": "2023-10-24T17:57:01.746566Z",
     "shell.execute_reply": "2023-10-24T17:57:01.746175Z"
    },
    "papermill": {
     "duration": 0.064247,
     "end_time": "2023-10-24T17:57:01.752812",
     "exception": false,
     "start_time": "2023-10-24T17:57:01.688565",
     "status": "completed"
    },
    "tags": []
   },
   "outputs": [],
   "source": [
    "import glob\n",
    "import json\n",
    "import os\n",
    "from pathlib import Path\n",
    "import requests\n",
    "import tarfile\n",
    "from urllib.parse import urlparse"
   ]
  },
  {
   "cell_type": "markdown",
   "id": "0efbe465",
   "metadata": {
    "papermill": {
     "duration": 0.001165,
     "end_time": "2023-10-24T17:57:01.755237",
     "exception": false,
     "start_time": "2023-10-24T17:57:01.754072",
     "status": "completed"
    },
    "tags": []
   },
   "source": [
    "Verify that the `DATASET_URL` environment variable is set. If it is not set, a RuntimeError is raised."
   ]
  },
  {
   "cell_type": "code",
   "execution_count": 2,
   "id": "a4ffffc4",
   "metadata": {
    "execution": {
     "iopub.execute_input": "2023-10-24T17:57:01.758877Z",
     "iopub.status.busy": "2023-10-24T17:57:01.758623Z",
     "iopub.status.idle": "2023-10-24T17:57:01.762144Z",
     "shell.execute_reply": "2023-10-24T17:57:01.761386Z"
    },
    "papermill": {
     "duration": 0.006985,
     "end_time": "2023-10-24T17:57:01.763260",
     "exception": false,
     "start_time": "2023-10-24T17:57:01.756275",
     "status": "completed"
    },
    "tags": []
   },
   "outputs": [],
   "source": [
    "data_file = os.getenv('DATASET_URL',\n",
    "                      'https://dax-cdn.cdn.appdomain.cloud/'\n",
    "                      'dax-noaa-weather-data-jfk-airport/1.1.4/'\n",
    "                      'noaa-weather-data-jfk-airport.tar.gz')"
   ]
  },
  {
   "cell_type": "markdown",
   "id": "85cfa27c",
   "metadata": {
    "papermill": {
     "duration": 0.001574,
     "end_time": "2023-10-24T17:57:01.766235",
     "exception": false,
     "start_time": "2023-10-24T17:57:01.764661",
     "status": "completed"
    },
    "tags": []
   },
   "source": [
    "Download the data set from the location specified in `dataset_url`, extract it (if it is compressed) and store it in the directory identified by `data_dir_name`."
   ]
  },
  {
   "cell_type": "code",
   "execution_count": 3,
   "id": "3aabd20a",
   "metadata": {
    "execution": {
     "iopub.execute_input": "2023-10-24T17:57:01.769651Z",
     "iopub.status.busy": "2023-10-24T17:57:01.769490Z",
     "iopub.status.idle": "2023-10-24T17:57:02.548107Z",
     "shell.execute_reply": "2023-10-24T17:57:02.547157Z"
    },
    "papermill": {
     "duration": 0.782,
     "end_time": "2023-10-24T17:57:02.549252",
     "exception": false,
     "start_time": "2023-10-24T17:57:01.767252",
     "status": "completed"
    },
    "tags": []
   },
   "outputs": [
    {
     "name": "stdout",
     "output_type": "stream",
     "text": [
      "Downloading data file https://dax-cdn.cdn.appdomain.cloud/dax-noaa-weather-data-jfk-airport/1.1.4/noaa-weather-data-jfk-airport.tar.gz ...\n"
     ]
    },
    {
     "name": "stdout",
     "output_type": "stream",
     "text": [
      "Saving downloaded file \"noaa-weather-data-jfk-airport.tar.gz\" as ...\n",
      "Extracting downloaded file in directory \"data\" ...\n",
      "Removing downloaded file ...\n"
     ]
    }
   ],
   "source": [
    "data_dir_name = 'data'\n",
    "\n",
    "print('Downloading data file {} ...'.format(data_file))\n",
    "r = requests.get(data_file)\n",
    "if r.status_code != 200:\n",
    "    raise RuntimeError('Could not fetch {}: HTTP status code {}'\n",
    "                       .format(data_file, r.status_code))\n",
    "else:\n",
    "    # extract data set file name from URL\n",
    "    data_file_name = Path((urlparse(data_file).path)).name\n",
    "    # create the directory where the downloaded file will be stored\n",
    "    data_dir = Path(data_dir_name)\n",
    "    data_dir.mkdir(parents=True, exist_ok=True)\n",
    "    downloaded_data_file = data_dir / data_file_name\n",
    "\n",
    "    print('Saving downloaded file \"{}\" as ...'.format(data_file_name))\n",
    "    with open(downloaded_data_file, 'wb') as downloaded_file:\n",
    "        downloaded_file.write(r.content)\n",
    "\n",
    "    if r.headers['content-type'] == 'application/x-tar':\n",
    "        print('Extracting downloaded file in directory \"{}\" ...'\n",
    "              .format(data_dir))\n",
    "        with tarfile.open(downloaded_data_file, 'r') as tar:\n",
    "            tar.extractall(data_dir)\n",
    "        print('Removing downloaded file ...')\n",
    "        downloaded_data_file.unlink()"
   ]
  },
  {
   "cell_type": "markdown",
   "id": "c0edca62",
   "metadata": {
    "papermill": {
     "duration": 0.001153,
     "end_time": "2023-10-24T17:57:02.552006",
     "exception": false,
     "start_time": "2023-10-24T17:57:02.550853",
     "status": "completed"
    },
    "tags": []
   },
   "source": [
    "Display list of extracted data files"
   ]
  },
  {
   "cell_type": "code",
   "execution_count": 4,
   "id": "d7d542ea",
   "metadata": {
    "execution": {
     "iopub.execute_input": "2023-10-24T17:57:02.555606Z",
     "iopub.status.busy": "2023-10-24T17:57:02.555402Z",
     "iopub.status.idle": "2023-10-24T17:57:02.559966Z",
     "shell.execute_reply": "2023-10-24T17:57:02.559140Z"
    },
    "papermill": {
     "duration": 0.007601,
     "end_time": "2023-10-24T17:57:02.561082",
     "exception": false,
     "start_time": "2023-10-24T17:57:02.553481",
     "status": "completed"
    },
    "tags": []
   },
   "outputs": [
    {
     "name": "stdout",
     "output_type": "stream",
     "text": [
      "data/iris.names\n",
      "data/noaa-weather-data-jfk-airport\n",
      "data/iris.data\n",
      "data/README.md\n",
      "data/noaa-weather-data-jfk-airport/LICENSE.txt\n",
      "data/noaa-weather-data-jfk-airport/clean_data.py\n",
      "data/noaa-weather-data-jfk-airport/README.txt\n",
      "data/noaa-weather-data-jfk-airport/jfk_weather_cleaned.csv\n",
      "data/noaa-weather-data-jfk-airport/jfk_weather.csv\n"
     ]
    }
   ],
   "source": [
    "for entry in glob.glob(data_dir_name + \"/**/*\", recursive=True):\n",
    "    print(entry)"
   ]
  },
  {
   "cell_type": "markdown",
   "id": "f9c7cb8d",
   "metadata": {
    "papermill": {
     "duration": 0.001091,
     "end_time": "2023-10-24T17:57:02.563467",
     "exception": false,
     "start_time": "2023-10-24T17:57:02.562376",
     "status": "completed"
    },
    "tags": []
   },
   "source": [
    "A notebook can produce output that is visualized in the Kubeflow Pipelines UI. For illustrative purposes we log the data set download URL. Refer to the [documentation](https://elyra.readthedocs.io/en/latest/recipes/visualizing-output-in-the-kfp-ui.html) to learn about supported visualization types and additional examples."
   ]
  },
  {
   "cell_type": "code",
   "execution_count": 5,
   "id": "e0f2fcde",
   "metadata": {
    "execution": {
     "iopub.execute_input": "2023-10-24T17:57:02.566802Z",
     "iopub.status.busy": "2023-10-24T17:57:02.566622Z",
     "iopub.status.idle": "2023-10-24T17:57:02.570075Z",
     "shell.execute_reply": "2023-10-24T17:57:02.569356Z"
    },
    "papermill": {
     "duration": 0.006399,
     "end_time": "2023-10-24T17:57:02.571047",
     "exception": false,
     "start_time": "2023-10-24T17:57:02.564648",
     "status": "completed"
    },
    "tags": []
   },
   "outputs": [],
   "source": [
    "if os.environ.get('ELYRA_RUNTIME_ENV') == 'kfp':\n",
    "    # For information about Elyra environment variables refer to\n",
    "    # https://elyra.readthedocs.io/en/stable/user_guide/best-practices-file-based-nodes.html#proprietary-environment-variables # noqa: E501\n",
    "\n",
    "    metadata = {\n",
    "        'outputs': [\n",
    "            {\n",
    "                'storage': 'inline',\n",
    "                'source': '# Data archive URL: {}'\n",
    "                          .format(data_file),\n",
    "                'type': 'markdown',\n",
    "            }]\n",
    "    }\n",
    "\n",
    "    with open('mlpipeline-ui-metadata.json', 'w') as f:\n",
    "        json.dump(metadata, f)"
   ]
  }
 ],
 "metadata": {
  "kernelspec": {
   "display_name": "Python 3",
   "language": "python",
   "name": "python3"
  },
  "language_info": {
   "codemirror_mode": {
    "name": "ipython",
    "version": 3
   },
   "file_extension": ".py",
   "mimetype": "text/x-python",
   "name": "python",
   "nbconvert_exporter": "python",
   "pygments_lexer": "ipython3",
   "version": "3.10.12"
  },
  "papermill": {
   "duration": 1.789594,
   "end_time": "2023-10-24T17:57:02.689016",
   "environment_variables": {},
   "exception": null,
   "input_path": "/home/finnnk/github/examples/pipelines/introduction-to-generic-pipelines/load_data.ipynb",
   "output_path": "/home/finnnk/github/examples/pipelines/introduction-to-generic-pipelines/load_data.ipynb",
   "parameters": {},
   "start_time": "2023-10-24T17:57:00.899422",
   "version": "2.1.1"
  }
 },
 "nbformat": 4,
 "nbformat_minor": 5
}