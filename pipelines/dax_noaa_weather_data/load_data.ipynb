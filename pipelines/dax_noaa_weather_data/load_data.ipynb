{
 "cells": [
  {
   "cell_type": "markdown",
   "id": "78a49027",
   "metadata": {
    "papermill": {
     "duration": 0.001114,
     "end_time": "2023-10-24T14:38:10.166785",
     "exception": false,
     "start_time": "2023-10-24T14:38:10.165671",
     "status": "completed"
    },
    "tags": []
   },
   "source": [
    "## Download a data set\n",
    "\n",
    "This notebook downloads a data set file from a public location. If the data set file is a compressed archive it will be decompressed. Upon completion the raw data set files  are located in the `data\\` directory.\n",
    "\n",
    "This notebook requires the following environment variables:\n",
    " -  `DATASET_URL` Public data set URL, e.g. `https://dax-cdn.cdn.appdomain.cloud/dax-fashion-mnist/1.0.2/fashion-mnist.tar.gz`"
   ]
  },
  {
   "cell_type": "code",
   "execution_count": 1,
   "id": "bbe74723",
   "metadata": {
    "execution": {
     "iopub.execute_input": "2023-10-24T14:38:10.170391Z",
     "iopub.status.busy": "2023-10-24T14:38:10.170178Z",
     "iopub.status.idle": "2023-10-24T14:38:10.200242Z",
     "shell.execute_reply": "2023-10-24T14:38:10.194726Z"
    },
    "papermill": {
     "duration": 0.033052,
     "end_time": "2023-10-24T14:38:10.201449",
     "exception": false,
     "start_time": "2023-10-24T14:38:10.168397",
     "status": "completed"
    },
    "tags": []
   },
   "outputs": [],
   "source": [
    "import glob\n",
    "import os\n",
    "from pathlib import Path\n",
    "import requests\n",
    "import tarfile\n",
    "from urllib.parse import urlparse"
   ]
  },
  {
   "cell_type": "markdown",
   "id": "2b0d619b",
   "metadata": {
    "papermill": {
     "duration": 0.000922,
     "end_time": "2023-10-24T14:38:10.203589",
     "exception": false,
     "start_time": "2023-10-24T14:38:10.202667",
     "status": "completed"
    },
    "tags": []
   },
   "source": [
    "Verify that the `DATASET_URL` environment variable is set. If it is not set, a RuntimeError is raised."
   ]
  },
  {
   "cell_type": "code",
   "execution_count": 2,
   "id": "7aee25d5",
   "metadata": {
    "execution": {
     "iopub.execute_input": "2023-10-24T14:38:10.244824Z",
     "iopub.status.busy": "2023-10-24T14:38:10.244510Z",
     "iopub.status.idle": "2023-10-24T14:38:10.274883Z",
     "shell.execute_reply": "2023-10-24T14:38:10.272127Z"
    },
    "papermill": {
     "duration": 0.052876,
     "end_time": "2023-10-24T14:38:10.275876",
     "exception": false,
     "start_time": "2023-10-24T14:38:10.223000",
     "status": "completed"
    },
    "tags": []
   },
   "outputs": [],
   "source": [
    "data_file = os.getenv('DATASET_URL',\n",
    "                      'https://dax-cdn.cdn.appdomain.cloud/'\n",
    "                      'dax-noaa-weather-data-jfk-airport/1.1.4/'\n",
    "                      'noaa-weather-data-jfk-airport.tar.gz')"
   ]
  },
  {
   "cell_type": "markdown",
   "id": "b133843a",
   "metadata": {
    "papermill": {
     "duration": 0.000946,
     "end_time": "2023-10-24T14:38:10.278195",
     "exception": false,
     "start_time": "2023-10-24T14:38:10.277249",
     "status": "completed"
    },
    "tags": []
   },
   "source": [
    "Download the data set from the location specified in `dataset_url`, extract it (if it is compressed) and store it in the directory identified by `data_dir_name`."
   ]
  },
  {
   "cell_type": "code",
   "execution_count": 3,
   "id": "7b4e0cc0",
   "metadata": {
    "execution": {
     "iopub.execute_input": "2023-10-24T14:38:10.281309Z",
     "iopub.status.busy": "2023-10-24T14:38:10.281116Z",
     "iopub.status.idle": "2023-10-24T14:38:11.151438Z",
     "shell.execute_reply": "2023-10-24T14:38:11.150754Z"
    },
    "papermill": {
     "duration": 0.873762,
     "end_time": "2023-10-24T14:38:11.152976",
     "exception": false,
     "start_time": "2023-10-24T14:38:10.279214",
     "status": "completed"
    },
    "tags": []
   },
   "outputs": [
    {
     "name": "stdout",
     "output_type": "stream",
     "text": [
      "Downloading data file https://dax-cdn.cdn.appdomain.cloud/dax-noaa-weather-data-jfk-airport/1.1.4/noaa-weather-data-jfk-airport.tar.gz ...\n",
      "Saving downloaded file \"noaa-weather-data-jfk-airport.tar.gz\" as ...\n",
      "Extracting downloaded file in directory \"data\" ...\n",
      "Removing downloaded file ...\n"
     ]
    }
   ],
   "source": [
    "data_dir_name = 'data'\n",
    "\n",
    "print('Downloading data file {} ...'.format(data_file))\n",
    "r = requests.get(data_file)\n",
    "if r.status_code != 200:\n",
    "    raise RuntimeError('Could not fetch {}: HTTP status code {}'\n",
    "                       .format(data_file, r.status_code))\n",
    "else:\n",
    "    # extract data set file name from URL\n",
    "    data_file_name = Path((urlparse(data_file).path)).name\n",
    "    # create the directory where the downloaded file will be stored\n",
    "    data_dir = Path(data_dir_name)\n",
    "    data_dir.mkdir(parents=True, exist_ok=True)\n",
    "    downloaded_data_file = data_dir / data_file_name\n",
    "\n",
    "    print('Saving downloaded file \"{}\" as ...'.format(data_file_name))\n",
    "    with open(downloaded_data_file, 'wb') as downloaded_file:\n",
    "        downloaded_file.write(r.content)\n",
    "\n",
    "    if r.headers['content-type'] == 'application/x-tar':\n",
    "        print('Extracting downloaded file in directory \"{}\" ...'\n",
    "              .format(data_dir))\n",
    "        with tarfile.open(downloaded_data_file, 'r') as tar:\n",
    "            tar.extractall(data_dir)\n",
    "        print('Removing downloaded file ...')\n",
    "        downloaded_data_file.unlink()"
   ]
  },
  {
   "cell_type": "markdown",
   "id": "72cbdddd",
   "metadata": {
    "papermill": {
     "duration": 0.001214,
     "end_time": "2023-10-24T14:38:11.155436",
     "exception": false,
     "start_time": "2023-10-24T14:38:11.154222",
     "status": "completed"
    },
    "tags": []
   },
   "source": [
    "Display list of extracted data files"
   ]
  },
  {
   "cell_type": "code",
   "execution_count": 4,
   "id": "cac4860b",
   "metadata": {
    "execution": {
     "iopub.execute_input": "2023-10-24T14:38:11.158533Z",
     "iopub.status.busy": "2023-10-24T14:38:11.158370Z",
     "iopub.status.idle": "2023-10-24T14:38:11.162593Z",
     "shell.execute_reply": "2023-10-24T14:38:11.162048Z"
    },
    "papermill": {
     "duration": 0.007034,
     "end_time": "2023-10-24T14:38:11.163384",
     "exception": false,
     "start_time": "2023-10-24T14:38:11.156350",
     "status": "completed"
    },
    "tags": []
   },
   "outputs": [
    {
     "name": "stdout",
     "output_type": "stream",
     "text": [
      "data/noaa-weather-data-jfk-airport\n",
      "data/noaa-weather-data-jfk-airport/LICENSE.txt\n",
      "data/noaa-weather-data-jfk-airport/clean_data.py\n",
      "data/noaa-weather-data-jfk-airport/README.txt\n",
      "data/noaa-weather-data-jfk-airport/jfk_weather_cleaned.csv\n",
      "data/noaa-weather-data-jfk-airport/jfk_weather.csv\n"
     ]
    }
   ],
   "source": [
    "for entry in glob.glob(data_dir_name + \"/**/*\", recursive=True):\n",
    "    print(entry)"
   ]
  }
 ],
 "metadata": {
  "kernelspec": {
   "display_name": "Python 3 (ipykernel)",
   "language": "python",
   "name": "python3"
  },
  "language_info": {
   "codemirror_mode": {
    "name": "ipython",
    "version": 3
   },
   "file_extension": ".py",
   "mimetype": "text/x-python",
   "name": "python",
   "nbconvert_exporter": "python",
   "pygments_lexer": "ipython3",
   "version": "3.10.12"
  },
  "papermill": {
   "duration": 1.884087,
   "end_time": "2023-10-24T14:38:11.390324",
   "environment_variables": {},
   "exception": null,
   "input_path": "/home/finnnk/github/examples/pipelines/dax_noaa_weather_data/load_data.ipynb",
   "output_path": "/home/finnnk/github/examples/pipelines/dax_noaa_weather_data/load_data.ipynb",
   "parameters": {},
   "start_time": "2023-10-24T14:38:09.506237",
   "version": "2.1.1"
  }
 },
 "nbformat": 4,
 "nbformat_minor": 5
}
